{
 "cells": [
  {
   "cell_type": "markdown",
   "id": "5bcb2e82",
   "metadata": {},
   "source": [
    "## Insertion Sort\n",
    "\n",
    "El algoritmo de ordenamiento por inserción funciona de la siguiente manera:\n",
    "\n",
    "1. Comienza desde el segundo elemento del arreglo (índice 1).\n",
    "2. Compara este elemento con los anteriores.\n",
    "3. Si el elemento actual es menor que el anterior, se intercambian.\n",
    "4. Este proceso continúa hasta que el elemento se inserta en la posición correcta.\n",
    "5. Se repite el procedimiento con todos los elementos hasta que el arreglo queda ordenado.\n",
    "\n",
    "### Ejemplo visual:\n",
    "\n",
    "Lista original: [7, 3, 5, 2]\n",
    "\n",
    "- Iteración 1: [**3**, 7, 5, 2]\n",
    "- Iteración 2: [3, **5**, 7, 2]\n",
    "- Iteración 3: [**2**, 3, 5, 7]\n",
    "\n",
    "Resultado final: [2, 3, 5, 7]\n"
   ]
  },
  {
   "cell_type": "code",
   "execution_count": 1,
   "id": "fb5266e1",
   "metadata": {},
   "outputs": [
    {
     "name": "stdout",
     "output_type": "stream",
     "text": [
      "Lista original: [7, 3, 5, 2]\n",
      "Lista ordenada (Insertion Sort): [2, 3, 5, 7]\n"
     ]
    }
   ],
   "source": [
    "def insertion_sort(arr):\n",
    "    for i in range(1, len(arr)):\n",
    "        actual = arr[i]\n",
    "        j = i - 1\n",
    "        while j >= 0 and arr[j] > actual:\n",
    "            arr[j + 1] = arr[j]\n",
    "            j -= 1\n",
    "        arr[j + 1] = actual\n",
    "    return arr\n",
    "\n",
    "# Ejemplo de uso\n",
    "ejemplo1 = [7, 3, 5, 2]\n",
    "print(\"Lista original:\", ejemplo1)\n",
    "ordenado = insertion_sort(ejemplo1.copy())\n",
    "print(\"Lista ordenada (Insertion Sort):\", ordenado)\n"
   ]
  },
  {
   "cell_type": "markdown",
   "id": "cefc6cf1",
   "metadata": {},
   "source": [
    "## Bubble Sort\n",
    "\n",
    "El algoritmo de ordenamiento burbuja funciona de la siguiente manera:\n",
    "\n",
    "1. Recorre el arreglo comparando pares de elementos adyacentes.\n",
    "2. Si el primer elemento es mayor que el segundo, se intercambian.\n",
    "3. Este proceso se repite varias veces (pasadas) hasta que no se hacen más intercambios.\n",
    "\n",
    "### Ejemplo visual:\n",
    "\n",
    "Lista original: [5, 1, 4, 2]\n",
    "\n",
    "- Pasada 1: [1, 4, 2, 5]\n",
    "- Pasada 2: [1, 2, 4, 5]\n",
    "- Pasada 3: [1, 2, 4, 5] (sin cambios, finaliza)\n",
    "\n",
    "Resultado final: [1, 2, 4, 5]\n"
   ]
  },
  {
   "cell_type": "code",
   "execution_count": null,
   "id": "da5cd9cc",
   "metadata": {},
   "outputs": [
    {
     "name": "stdout",
     "output_type": "stream",
     "text": [
      "Lista original: [5, 1, 4, 2]\n",
      "Lista ordenada (Bubble Sort): [1, 2, 4, 5]\n"
     ]
    }
   ],
   "source": [
    "def bubble_sort(arr):\n",
    "    n = len(arr)\n",
    "    for i in range(n):\n",
    "        # Bandera para detectar si hubo cambios\n",
    "        cambiado = False\n",
    "        for j in range(0, n - i - 1):\n",
    "            if arr[j] > arr[j + 1]:\n",
    "                # Intercambio\n",
    "                arr[j], arr[j + 1] = arr[j + 1], arr[j]\n",
    "                cambiado = True\n",
    "        if not cambiado:\n",
    "            break\n",
    "    return arr\n",
    "\n",
    "# Ejemplo de uso\n",
    "ejemplo2 = [5, 1, 4, 2]\n",
    "print(\"Lista original:\", ejemplo2)\n",
    "ordenado = bubble_sort(ejemplo2.copy())\n",
    "print(\"Lista ordenada (Bubble Sort):\", ordenado)\n"
   ]
  }
 ],
 "metadata": {
  "kernelspec": {
   "display_name": "Python 3",
   "language": "python",
   "name": "python3"
  },
  "language_info": {
   "codemirror_mode": {
    "name": "ipython",
    "version": 3
   },
   "file_extension": ".py",
   "mimetype": "text/x-python",
   "name": "python",
   "nbconvert_exporter": "python",
   "pygments_lexer": "ipython3",
   "version": "3.10.0"
  }
 },
 "nbformat": 4,
 "nbformat_minor": 5
}
